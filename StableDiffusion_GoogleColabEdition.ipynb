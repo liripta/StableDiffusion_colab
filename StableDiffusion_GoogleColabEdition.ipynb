{
  "cells": [
    {
      "cell_type": "markdown",
      "source": [
        "# Stable deffusion Google Colab Edition\n",
        "\n",
        "---\n"
      ],
      "metadata": {
        "id": "7TPE48BcCLJk"
      }
    },
    {
      "cell_type": "markdown",
      "metadata": {
        "id": "8P9kCm1-x2O5"
      },
      "source": [
        "## 1. モデルの読み込み Load Checkpoint"
      ]
    },
    {
      "cell_type": "code",
      "source": [
        "import torch\n",
        "from diffusers import StableDiffusionXLPipeline, DPMSolverMultistepScheduler, EulerAncestralDiscreteScheduler\n",
        "from transformers import CLIPTokenizer, CLIPTextModel\n",
        "from IPython.display import Image, display_png\n",
        "from PIL import Image\n",
        "from google.colab import drive"
      ],
      "metadata": {
        "id": "bCNPxxZr07eI"
      },
      "execution_count": 1,
      "outputs": []
    },
    {
      "cell_type": "code",
      "source": [
        "drive.mount('/content/drive')\n",
        "\n",
        "model_path = \"/content/drive/MyDrive/MODEL/pelucheMIXColourfulTartX_teddybearV1.safetensors\"  # @param {type:\"string\"}\n",
        "\n",
        "scheduler_name = \"Euler A\"  # @param [\"Euler A\", \"DPM Solver++\"]\n",
        "\n",
        "# モデルをロード\n",
        "pipe = StableDiffusionXLPipeline.from_single_file(\n",
        "    model_path,\n",
        "    torch_dtype=torch.float16\n",
        ").to(\"cuda\")\n",
        "\n",
        "# スケジューラを適用\n",
        "if scheduler_name == \"DPM Solver++\":\n",
        "    pipe.scheduler = DPMSolverMultistepScheduler.from_config(pipe.scheduler.config)\n",
        "elif scheduler_name == \"Euler A\":\n",
        "    pipe.scheduler = EulerAncestralDiscreteScheduler.from_config(pipe.scheduler.config)\n",
        "else:\n",
        "    raise ValueError(\"無効なスケジューラー名です\")"
      ],
      "metadata": {
        "id": "yR-1VgDMeCjX",
        "cellView": "form"
      },
      "execution_count": null,
      "outputs": []
    },
    {
      "cell_type": "markdown",
      "source": [
        "## 2. LoRaの読み込み Load LoRa"
      ],
      "metadata": {
        "id": "ymFULxqGIE6G"
      }
    },
    {
      "cell_type": "code",
      "source": [
        "lora_dict = {\n",
        "    \"/content/drive/MyDrive/MODEL/748cmSDXL.safetensors\": 0.4,\n",
        "    \"/content/drive/MyDrive/MODEL/Detailed anime style.safetensors\": 0.5,\n",
        "}  # LoRaを読み込むにはここを変更する\n",
        "\n",
        "# LoRaの読み込み\n",
        "try:\n",
        "    lora_names = []\n",
        "    for idx, (lora_path, scale) in enumerate(lora_dict.items()):\n",
        "        lora_name = f\"lora_{idx}\"\n",
        "        pipe.load_lora_weights(lora_path, adapter_name=lora_name) # 読み込む\n",
        "        lora_names.append(lora_name)\n",
        "        print(f\"LoRa {lora_path} が 重み {scale} で読み込まれました\")\n",
        "\n",
        "    pipe.set_adapters(lora_names, list(lora_dict.values()))  # LoRaの比率を適用\n",
        "    print(\"すべてのLoRaが正しく読み込まれました!\")\n",
        "except Exception as e:\n",
        "    print(f\"LoRaの読み込みに失敗しました: {e}\")"
      ],
      "metadata": {
        "id": "hMNYJJ_IHvR3"
      },
      "execution_count": null,
      "outputs": []
    },
    {
      "cell_type": "markdown",
      "source": [
        "##3.  画像生成 Image generation"
      ],
      "metadata": {
        "id": "aGQ3YN8j5xjd"
      }
    },
    {
      "cell_type": "markdown",
      "source": [
        "prompt :プロンプト\n",
        "\n",
        "negative_prompt :ネガティブプロンプト\n",
        "\n",
        "image_width, image_height :画像の大きさ  大きいと時間が掛かる\n",
        "\n",
        "num_steps :サンプリング回数  多いと時間が掛かる\n",
        "\n",
        "seed :シード  数値以外を入力でランダム\n",
        "\n",
        "scale :CFGスケール\n",
        "\n",
        "count :枚数"
      ],
      "metadata": {
        "id": "rriqOMyTIerd"
      }
    },
    {
      "cell_type": "code",
      "execution_count": null,
      "metadata": {
        "id": "nrlZzUtpy-Gi",
        "cellView": "form"
      },
      "outputs": [],
      "source": [
        "import torch\n",
        "import shutil\n",
        "import os\n",
        "from PIL import Image\n",
        "from IPython.display import display\n",
        "\n",
        "# パラメータ設定（Colab 用）\n",
        "prompt = \"1girl, long hair, blunt bangs, blue eyes, school, whole body, thin lines, anime style, masterpiece, score_9, score_8_up\"  # @param {\"type\":\"string\",\"placeholder\":\"プロンプトを入力\"}\n",
        "negative_prompt = \"(long torso), halo, bad quality, error, worst quality, worst detail, bad, low quality, bad anatomy, text, 6 fingers, bad hands, bad feet, bad hand, bad finger, bad fingers, extra finger, extra fingers, split finger, split fingers, extra digits, fused arms, fused hands\"  # @param {\"type\":\"string\",\"placeholder\":\"ネガティブプロンプトを入力\"}\n",
        "image_width = 768  # @param {\"type\":\"number\",\"placeholder\":\"横幅\"}\n",
        "image_height = 1024  # @param {\"type\":\"number\",\"placeholder\":\"縦幅\"}\n",
        "num_steps = 20  # @param {\"type\":\"number\",\"placeholder\":\"サンプリング回数\"}\n",
        "seed = None  # @param {\"type\":\"number\",\"placeholder\":\"シード値 (空白でランダム)\"}\n",
        "scale = 4  # @param {\"type\":\"number\",\"placeholder\":\"CFG scale\"}\n",
        "count = 8  # @param {\"type\":\"number\",\"placeholder\":\"生成する枚数\"}\n",
        "\n",
        "# 出力フォルダとZIP保存先\n",
        "output_dir = \"/content/generated_images\"\n",
        "zip_path = \"/content/generated_images.zip\"\n",
        "\n",
        "# 出力フォルダを作成（既に存在していれば削除して作り直す）\n",
        "if os.path.exists(output_dir):\n",
        "    shutil.rmtree(output_dir)\n",
        "os.makedirs(output_dir, exist_ok=True)\n",
        "\n",
        "# 画像生成ループ\n",
        "for i in range(count):\n",
        "    seed_value = int(seed) if isinstance(seed, int) else torch.randint(0, 2**32, (1,)).item()\n",
        "    generator = torch.manual_seed(seed_value)\n",
        "\n",
        "    image = pipe(\n",
        "        prompt=prompt,\n",
        "        negative_prompt=negative_prompt,\n",
        "        width=image_width,\n",
        "        height=image_height,\n",
        "        num_inference_steps=num_steps,\n",
        "        guidance_scale=scale,\n",
        "        generator=generator\n",
        "    ).images[0]\n",
        "\n",
        "    # 画像の保存\n",
        "    image_path = os.path.join(output_dir, f\"{i}.png\")\n",
        "    image.save(image_path)\n",
        "    print(f\"{i + 1} / {count} 枚目 シード: {seed_value}\")\n",
        "\n",
        "    # 画像を表示（Colab 用）\n",
        "    display(Image.open(image_path))\n",
        "\n",
        "# 画像を ZIP 圧縮\n",
        "shutil.make_archive(zip_path.replace(\".zip\", \"\"), 'zip', output_dir)\n",
        "\n",
        "print(f\"画像を {zip_path} に保存しました。\")"
      ]
    }
  ],
  "metadata": {
    "accelerator": "GPU",
    "colab": {
      "provenance": [],
      "gpuType": "T4"
    },
    "kernelspec": {
      "display_name": "Python 3",
      "name": "python3"
    },
    "language_info": {
      "name": "python"
    }
  },
  "nbformat": 4,
  "nbformat_minor": 0
}